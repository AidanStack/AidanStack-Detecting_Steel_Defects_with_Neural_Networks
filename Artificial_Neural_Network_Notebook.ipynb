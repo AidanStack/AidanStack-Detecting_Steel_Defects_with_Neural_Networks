{
 "cells": [
  {
   "cell_type": "code",
   "execution_count": null,
   "id": "dadaf5ab",
   "metadata": {},
   "outputs": [],
   "source": [
    "# import numpy as np \n",
    "# import pandas as pd\n",
    "# import matplotlib.pyplot as plt\n",
    "# import keras\n",
    "# from keras import layers\n",
    "# from keras.preprocessing.image import load_img, img_to_array\n",
    "# import cv2\n",
    "# import s3fs\n",
    "# from PIL import Image\n",
    "\n",
    "# fs = s3fs.S3FileSystem()\n",
    "\n",
    "# path_list = fs.ls('s3://steel-training-dataset/training_images/train_images')\n",
    "\n",
    "# s3_1 = fs.open('s3://' + path_list[107])\n",
    "\n",
    "# image = load_img(s3_1, color_mode='grayscale')\n",
    "\n",
    "# image\n",
    "\n",
    "# array = img_to_array(image)\n",
    "\n",
    "# array.shape"
   ]
  }
 ],
 "metadata": {
  "kernelspec": {
   "display_name": "conda_tensorflow2_p36",
   "language": "python",
   "name": "conda_tensorflow2_p36"
  },
  "language_info": {
   "codemirror_mode": {
    "name": "ipython",
    "version": 3
   },
   "file_extension": ".py",
   "mimetype": "text/x-python",
   "name": "python",
   "nbconvert_exporter": "python",
   "pygments_lexer": "ipython3",
   "version": "3.6.13"
  }
 },
 "nbformat": 4,
 "nbformat_minor": 5
}
