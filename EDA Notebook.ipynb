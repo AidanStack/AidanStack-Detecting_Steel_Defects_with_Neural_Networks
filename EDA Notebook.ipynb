{
 "cells": [
  {
   "cell_type": "markdown",
   "id": "3b9ae49c",
   "metadata": {},
   "source": [
    "# Steel Defect Identification Project - Exploratory Data Analysis"
   ]
  },
  {
   "cell_type": "code",
   "execution_count": 1,
   "id": "ec05b3e4",
   "metadata": {},
   "outputs": [],
   "source": [
    "# Importing the necessary libraries\n",
    "import pandas as pd\n",
    "import matplotlib.pyplot as plt\n",
    "import os"
   ]
  },
  {
   "cell_type": "code",
   "execution_count": 6,
   "id": "b6112484",
   "metadata": {},
   "outputs": [
    {
     "name": "stdout",
     "output_type": "stream",
     "text": [
      "There are 12568 images in our training set.\n"
     ]
    }
   ],
   "source": [
    "# Getting the length of our train_images directory\n",
    "train_filenames = list(os.walk('Original Dataset Package/Steel Images/train_images'))[0][2]\n",
    "\n",
    "# Printing the result\n",
    "print(f'There are {len(train_filenames)} images in our training set.')"
   ]
  },
  {
   "cell_type": "code",
   "execution_count": 7,
   "id": "fb531035",
   "metadata": {},
   "outputs": [
    {
     "name": "stdout",
     "output_type": "stream",
     "text": [
      "There are 5506 images in our test set.\n"
     ]
    }
   ],
   "source": [
    "# Getting the length of our train_images directory\n",
    "test_filenames = list(os.walk('Original Dataset Package/Steel Images/test_images'))[0][2]\n",
    "\n",
    "# Printing the result\n",
    "print(f'There are {len(test_filenames)} images in our test set.')"
   ]
  },
  {
   "cell_type": "code",
   "execution_count": 33,
   "id": "e2c8cd1c",
   "metadata": {},
   "outputs": [
    {
     "name": "stdout",
     "output_type": "stream",
     "text": [
      "train_df shape: (7095, 3)\n"
     ]
    },
    {
     "data": {
      "text/html": [
       "<div>\n",
       "<style scoped>\n",
       "    .dataframe tbody tr th:only-of-type {\n",
       "        vertical-align: middle;\n",
       "    }\n",
       "\n",
       "    .dataframe tbody tr th {\n",
       "        vertical-align: top;\n",
       "    }\n",
       "\n",
       "    .dataframe thead th {\n",
       "        text-align: right;\n",
       "    }\n",
       "</style>\n",
       "<table border=\"1\" class=\"dataframe\">\n",
       "  <thead>\n",
       "    <tr style=\"text-align: right;\">\n",
       "      <th></th>\n",
       "      <th>ImageId</th>\n",
       "      <th>ClassId</th>\n",
       "      <th>EncodedPixels</th>\n",
       "    </tr>\n",
       "  </thead>\n",
       "  <tbody>\n",
       "    <tr>\n",
       "      <th>0</th>\n",
       "      <td>0002cc93b.jpg</td>\n",
       "      <td>1</td>\n",
       "      <td>29102 12 29346 24 29602 24 29858 24 30114 24 3...</td>\n",
       "    </tr>\n",
       "    <tr>\n",
       "      <th>1</th>\n",
       "      <td>0007a71bf.jpg</td>\n",
       "      <td>3</td>\n",
       "      <td>18661 28 18863 82 19091 110 19347 110 19603 11...</td>\n",
       "    </tr>\n",
       "    <tr>\n",
       "      <th>2</th>\n",
       "      <td>000a4bcdd.jpg</td>\n",
       "      <td>1</td>\n",
       "      <td>37607 3 37858 8 38108 14 38359 20 38610 25 388...</td>\n",
       "    </tr>\n",
       "    <tr>\n",
       "      <th>3</th>\n",
       "      <td>000f6bf48.jpg</td>\n",
       "      <td>4</td>\n",
       "      <td>131973 1 132228 4 132483 6 132738 8 132993 11 ...</td>\n",
       "    </tr>\n",
       "    <tr>\n",
       "      <th>4</th>\n",
       "      <td>0014fce06.jpg</td>\n",
       "      <td>3</td>\n",
       "      <td>229501 11 229741 33 229981 55 230221 77 230468...</td>\n",
       "    </tr>\n",
       "  </tbody>\n",
       "</table>\n",
       "</div>"
      ],
      "text/plain": [
       "         ImageId  ClassId                                      EncodedPixels\n",
       "0  0002cc93b.jpg        1  29102 12 29346 24 29602 24 29858 24 30114 24 3...\n",
       "1  0007a71bf.jpg        3  18661 28 18863 82 19091 110 19347 110 19603 11...\n",
       "2  000a4bcdd.jpg        1  37607 3 37858 8 38108 14 38359 20 38610 25 388...\n",
       "3  000f6bf48.jpg        4  131973 1 132228 4 132483 6 132738 8 132993 11 ...\n",
       "4  0014fce06.jpg        3  229501 11 229741 33 229981 55 230221 77 230468..."
      ]
     },
     "execution_count": 33,
     "metadata": {},
     "output_type": "execute_result"
    }
   ],
   "source": [
    "# Importing the train.csv as a pandas dataframe\n",
    "train_df = pd.read_csv('Original Dataset Package/train.csv')\n",
    "\n",
    "# Displaying the shape\n",
    "print(f'train_df shape: {train_df.shape}')\n",
    "\n",
    "# Taking a look at the head of our dataframe\n",
    "train_df.head()"
   ]
  },
  {
   "cell_type": "code",
   "execution_count": 5,
   "id": "14df39f5",
   "metadata": {},
   "outputs": [
    {
     "name": "stdout",
     "output_type": "stream",
     "text": [
      "There are 6666 images in our training set with defects.\n"
     ]
    }
   ],
   "source": [
    "# Printing the number of unique file names\n",
    "print(f'There are {len(set(train_df[\"ImageId\"]))} images in our training set with defects.')"
   ]
  },
  {
   "cell_type": "code",
   "execution_count": 59,
   "id": "24606e51",
   "metadata": {},
   "outputs": [
    {
     "name": "stdout",
     "output_type": "stream",
     "text": [
      "[5902, 6239, 425, 2]\n"
     ]
    },
    {
     "data": {
      "image/png": "[encoded data removed]",
      "text/plain": [
       "<Figure size 576x360 with 1 Axes>"
      ]
     },
     "metadata": {
      "needs_background": "light"
     },
     "output_type": "display_data"
    }
   ],
   "source": [
    "# Making a dictionary tying each filename to number of defect types for later use\n",
    "defects_per_image_dict = dict(train_df['ImageId'].value_counts())\n",
    "\n",
    "# This list holds the number of defect types for each unique filename in our dataframe\n",
    "defects_per_image = list(train_df.ImageId.value_counts())\n",
    "\n",
    "# The class labels of the defect types \n",
    "labels = ['0', '1', '2', '3']\n",
    "\n",
    "# This list tracks number of defect types, '0' is preset to 5902 because there are 5902\n",
    "# images in our training set with no defects present \n",
    "label_counts = [5902, 0, 0, 0]\n",
    "\n",
    "# Iterating through the defect type count list, tracking how many times each number appears\n",
    "for i in defects_per_image:\n",
    "    label_counts[i] += 1\n",
    "    \n",
    "# \n",
    "print(label_counts)\n",
    "    \n",
    "# Plotting the results\n",
    "fig, ax  = plt.subplots(figsize=(8,5))\n",
    "plt.bar(labels, label_counts, width=.5, color='#4386a3')\n",
    "plt.title('Number of Defect Types Per Image - Training Set')\n",
    "plt.xlabel('Defect Label')\n",
    "plt.ylabel('Count')\n",
    "plt.show()"
   ]
  },
  {
   "cell_type": "code",
   "execution_count": null,
   "id": "37074324",
   "metadata": {},
   "outputs": [],
   "source": []
  },
  {
   "cell_type": "code",
   "execution_count": null,
   "id": "18669b0c",
   "metadata": {},
   "outputs": [],
   "source": []
  },
  {
   "cell_type": "code",
   "execution_count": null,
   "id": "e4ffa08e",
   "metadata": {},
   "outputs": [],
   "source": []
  },
  {
   "cell_type": "code",
   "execution_count": null,
   "id": "d8dbedef",
   "metadata": {},
   "outputs": [],
   "source": []
  },
  {
   "cell_type": "code",
   "execution_count": null,
   "id": "df8ba366",
   "metadata": {},
   "outputs": [],
   "source": []
  },
  {
   "cell_type": "code",
   "execution_count": null,
   "id": "a6b725df",
   "metadata": {},
   "outputs": [],
   "source": []
  },
  {
   "cell_type": "code",
   "execution_count": null,
   "id": "0f55771b",
   "metadata": {},
   "outputs": [],
   "source": []
  }
 ],
 "metadata": {
  "kernelspec": {
   "display_name": "Python 3 (ipykernel)",
   "language": "python",
   "name": "python3"
  },
  "language_info": {
   "codemirror_mode": {
    "name": "ipython",
    "version": 3
   },
   "file_extension": ".py",
   "mimetype": "text/x-python",
   "name": "python",
   "nbconvert_exporter": "python",
   "pygments_lexer": "ipython3",
   "version": "3.9.7"
  }
 },
 "nbformat": 4,
 "nbformat_minor": 5
}
